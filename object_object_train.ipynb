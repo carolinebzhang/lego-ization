{
  "nbformat": 4,
  "nbformat_minor": 0,
  "metadata": {
    "colab": {
      "provenance": [],
      "gpuType": "T4"
    },
    "kernelspec": {
      "name": "python3",
      "display_name": "Python 3"
    },
    "language_info": {
      "name": "python"
    },
    "accelerator": "GPU",
    "gpuClass": "standard"
  },
  "cells": [
    {
      "cell_type": "code",
      "execution_count": null,
      "metadata": {
        "colab": {
          "base_uri": "https://localhost:8080/"
        },
        "id": "9IAqQlyeg5Ka",
        "outputId": "f4a4a281-f62e-49dd-e7ce-c1680238b251"
      },
      "outputs": [
        {
          "output_type": "stream",
          "name": "stdout",
          "text": [
            "Cloning into 'lego-ization'...\n",
            "remote: Enumerating objects: 2760, done.\u001b[K\n",
            "remote: Counting objects: 100% (234/234), done.\u001b[K\n",
            "remote: Compressing objects: 100% (142/142), done.\u001b[K\n",
            "remote: Total 2760 (delta 94), reused 230 (delta 90), pack-reused 2526\u001b[K\n",
            "Receiving objects: 100% (2760/2760), 2.83 GiB | 36.82 MiB/s, done.\n",
            "Resolving deltas: 100% (1270/1270), done.\n",
            "Updating files: 100% (1193/1193), done.\n"
          ]
        }
      ],
      "source": [
        "!git clone https://github.com/carolinebzhang/lego-ization.git"
      ]
    },
    {
      "cell_type": "code",
      "source": [
        "%cd lego-ization"
      ],
      "metadata": {
        "colab": {
          "base_uri": "https://localhost:8080/"
        },
        "id": "VZPhUr_5g_mR",
        "outputId": "0ab10942-b6b1-44de-808c-5fb2ca3650f0"
      },
      "execution_count": null,
      "outputs": [
        {
          "output_type": "stream",
          "name": "stdout",
          "text": [
            "/content/lego-ization\n"
          ]
        }
      ]
    },
    {
      "cell_type": "code",
      "source": [
        "!git checkout all_arrays"
      ],
      "metadata": {
        "colab": {
          "base_uri": "https://localhost:8080/"
        },
        "id": "ueSXyY0lhAly",
        "outputId": "17cf07c0-011e-4bf5-dc8b-6143c0019ac8"
      },
      "execution_count": null,
      "outputs": [
        {
          "output_type": "stream",
          "name": "stdout",
          "text": [
            "Updating files: 100% (2631/2631), done.\n",
            "Branch 'all_arrays' set up to track remote branch 'all_arrays' from 'origin'.\n",
            "Switched to a new branch 'all_arrays'\n"
          ]
        }
      ]
    },
    {
      "cell_type": "code",
      "source": [
        "!pip install torcheval"
      ],
      "metadata": {
        "colab": {
          "base_uri": "https://localhost:8080/"
        },
        "id": "psPyu6exhB9q",
        "outputId": "d29205c5-7301-4f66-c0fb-4a520edc194b"
      },
      "execution_count": null,
      "outputs": [
        {
          "output_type": "stream",
          "name": "stdout",
          "text": [
            "Looking in indexes: https://pypi.org/simple, https://us-python.pkg.dev/colab-wheels/public/simple/\n",
            "Collecting torcheval\n",
            "  Downloading torcheval-0.0.6-py3-none-any.whl (158 kB)\n",
            "\u001b[2K     \u001b[90m━━━━━━━━━━━━━━━━━━━━━━━━━━━━━━━━━━━━━━━\u001b[0m \u001b[32m158.4/158.4 kB\u001b[0m \u001b[31m6.8 MB/s\u001b[0m eta \u001b[36m0:00:00\u001b[0m\n",
            "\u001b[?25hRequirement already satisfied: typing-extensions in /usr/local/lib/python3.10/dist-packages (from torcheval) (4.5.0)\n",
            "Collecting torchtnt>=0.0.5\n",
            "  Downloading torchtnt-0.1.0-py3-none-any.whl (87 kB)\n",
            "\u001b[2K     \u001b[90m━━━━━━━━━━━━━━━━━━━━━━━━━━━━━━━━━━━━━━━━\u001b[0m \u001b[32m87.9/87.9 kB\u001b[0m \u001b[31m12.7 MB/s\u001b[0m eta \u001b[36m0:00:00\u001b[0m\n",
            "\u001b[?25hRequirement already satisfied: tensorboard in /usr/local/lib/python3.10/dist-packages (from torchtnt>=0.0.5->torcheval) (2.12.2)\n",
            "Requirement already satisfied: psutil in /usr/local/lib/python3.10/dist-packages (from torchtnt>=0.0.5->torcheval) (5.9.5)\n",
            "Requirement already satisfied: fsspec in /usr/local/lib/python3.10/dist-packages (from torchtnt>=0.0.5->torcheval) (2023.4.0)\n",
            "Requirement already satisfied: numpy in /usr/local/lib/python3.10/dist-packages (from torchtnt>=0.0.5->torcheval) (1.22.4)\n",
            "Collecting pyre-extensions\n",
            "  Downloading pyre_extensions-0.0.30-py3-none-any.whl (12 kB)\n",
            "Requirement already satisfied: torch in /usr/local/lib/python3.10/dist-packages (from torchtnt>=0.0.5->torcheval) (2.0.0+cu118)\n",
            "Requirement already satisfied: packaging in /usr/local/lib/python3.10/dist-packages (from torchtnt>=0.0.5->torcheval) (23.1)\n",
            "Requirement already satisfied: tqdm in /usr/local/lib/python3.10/dist-packages (from torchtnt>=0.0.5->torcheval) (4.65.0)\n",
            "Requirement already satisfied: setuptools in /usr/local/lib/python3.10/dist-packages (from torchtnt>=0.0.5->torcheval) (67.7.2)\n",
            "Collecting typing-inspect\n",
            "  Downloading typing_inspect-0.8.0-py3-none-any.whl (8.7 kB)\n",
            "Requirement already satisfied: google-auth-oauthlib<1.1,>=0.5 in /usr/local/lib/python3.10/dist-packages (from tensorboard->torchtnt>=0.0.5->torcheval) (1.0.0)\n",
            "Requirement already satisfied: tensorboard-plugin-wit>=1.6.0 in /usr/local/lib/python3.10/dist-packages (from tensorboard->torchtnt>=0.0.5->torcheval) (1.8.1)\n",
            "Requirement already satisfied: grpcio>=1.48.2 in /usr/local/lib/python3.10/dist-packages (from tensorboard->torchtnt>=0.0.5->torcheval) (1.54.0)\n",
            "Requirement already satisfied: markdown>=2.6.8 in /usr/local/lib/python3.10/dist-packages (from tensorboard->torchtnt>=0.0.5->torcheval) (3.4.3)\n",
            "Requirement already satisfied: google-auth<3,>=1.6.3 in /usr/local/lib/python3.10/dist-packages (from tensorboard->torchtnt>=0.0.5->torcheval) (2.17.3)\n",
            "Requirement already satisfied: absl-py>=0.4 in /usr/local/lib/python3.10/dist-packages (from tensorboard->torchtnt>=0.0.5->torcheval) (1.4.0)\n",
            "Requirement already satisfied: protobuf>=3.19.6 in /usr/local/lib/python3.10/dist-packages (from tensorboard->torchtnt>=0.0.5->torcheval) (3.20.3)\n",
            "Requirement already satisfied: werkzeug>=1.0.1 in /usr/local/lib/python3.10/dist-packages (from tensorboard->torchtnt>=0.0.5->torcheval) (2.3.0)\n",
            "Requirement already satisfied: wheel>=0.26 in /usr/local/lib/python3.10/dist-packages (from tensorboard->torchtnt>=0.0.5->torcheval) (0.40.0)\n",
            "Requirement already satisfied: tensorboard-data-server<0.8.0,>=0.7.0 in /usr/local/lib/python3.10/dist-packages (from tensorboard->torchtnt>=0.0.5->torcheval) (0.7.0)\n",
            "Requirement already satisfied: requests<3,>=2.21.0 in /usr/local/lib/python3.10/dist-packages (from tensorboard->torchtnt>=0.0.5->torcheval) (2.27.1)\n",
            "Requirement already satisfied: triton==2.0.0 in /usr/local/lib/python3.10/dist-packages (from torch->torchtnt>=0.0.5->torcheval) (2.0.0)\n",
            "Requirement already satisfied: networkx in /usr/local/lib/python3.10/dist-packages (from torch->torchtnt>=0.0.5->torcheval) (3.1)\n",
            "Requirement already satisfied: jinja2 in /usr/local/lib/python3.10/dist-packages (from torch->torchtnt>=0.0.5->torcheval) (3.1.2)\n",
            "Requirement already satisfied: filelock in /usr/local/lib/python3.10/dist-packages (from torch->torchtnt>=0.0.5->torcheval) (3.12.0)\n",
            "Requirement already satisfied: sympy in /usr/local/lib/python3.10/dist-packages (from torch->torchtnt>=0.0.5->torcheval) (1.11.1)\n",
            "Requirement already satisfied: lit in /usr/local/lib/python3.10/dist-packages (from triton==2.0.0->torch->torchtnt>=0.0.5->torcheval) (16.0.2)\n",
            "Requirement already satisfied: cmake in /usr/local/lib/python3.10/dist-packages (from triton==2.0.0->torch->torchtnt>=0.0.5->torcheval) (3.25.2)\n",
            "Requirement already satisfied: six>=1.9.0 in /usr/local/lib/python3.10/dist-packages (from google-auth<3,>=1.6.3->tensorboard->torchtnt>=0.0.5->torcheval) (1.16.0)\n",
            "Requirement already satisfied: cachetools<6.0,>=2.0.0 in /usr/local/lib/python3.10/dist-packages (from google-auth<3,>=1.6.3->tensorboard->torchtnt>=0.0.5->torcheval) (5.3.0)\n",
            "Requirement already satisfied: rsa<5,>=3.1.4 in /usr/local/lib/python3.10/dist-packages (from google-auth<3,>=1.6.3->tensorboard->torchtnt>=0.0.5->torcheval) (4.9)\n",
            "Requirement already satisfied: pyasn1-modules>=0.2.1 in /usr/local/lib/python3.10/dist-packages (from google-auth<3,>=1.6.3->tensorboard->torchtnt>=0.0.5->torcheval) (0.3.0)\n",
            "Requirement already satisfied: requests-oauthlib>=0.7.0 in /usr/local/lib/python3.10/dist-packages (from google-auth-oauthlib<1.1,>=0.5->tensorboard->torchtnt>=0.0.5->torcheval) (1.3.1)\n",
            "Requirement already satisfied: certifi>=2017.4.17 in /usr/local/lib/python3.10/dist-packages (from requests<3,>=2.21.0->tensorboard->torchtnt>=0.0.5->torcheval) (2022.12.7)\n",
            "Requirement already satisfied: urllib3<1.27,>=1.21.1 in /usr/local/lib/python3.10/dist-packages (from requests<3,>=2.21.0->tensorboard->torchtnt>=0.0.5->torcheval) (1.26.15)\n",
            "Requirement already satisfied: idna<4,>=2.5 in /usr/local/lib/python3.10/dist-packages (from requests<3,>=2.21.0->tensorboard->torchtnt>=0.0.5->torcheval) (3.4)\n",
            "Requirement already satisfied: charset-normalizer~=2.0.0 in /usr/local/lib/python3.10/dist-packages (from requests<3,>=2.21.0->tensorboard->torchtnt>=0.0.5->torcheval) (2.0.12)\n",
            "Requirement already satisfied: MarkupSafe>=2.1.1 in /usr/local/lib/python3.10/dist-packages (from werkzeug>=1.0.1->tensorboard->torchtnt>=0.0.5->torcheval) (2.1.2)\n",
            "Requirement already satisfied: mpmath>=0.19 in /usr/local/lib/python3.10/dist-packages (from sympy->torch->torchtnt>=0.0.5->torcheval) (1.3.0)\n",
            "Collecting mypy-extensions>=0.3.0\n",
            "  Downloading mypy_extensions-1.0.0-py3-none-any.whl (4.7 kB)\n",
            "Requirement already satisfied: pyasn1<0.6.0,>=0.4.6 in /usr/local/lib/python3.10/dist-packages (from pyasn1-modules>=0.2.1->google-auth<3,>=1.6.3->tensorboard->torchtnt>=0.0.5->torcheval) (0.5.0)\n",
            "Requirement already satisfied: oauthlib>=3.0.0 in /usr/local/lib/python3.10/dist-packages (from requests-oauthlib>=0.7.0->google-auth-oauthlib<1.1,>=0.5->tensorboard->torchtnt>=0.0.5->torcheval) (3.2.2)\n",
            "Installing collected packages: mypy-extensions, typing-inspect, pyre-extensions, torchtnt, torcheval\n",
            "Successfully installed mypy-extensions-1.0.0 pyre-extensions-0.0.30 torcheval-0.0.6 torchtnt-0.1.0 typing-inspect-0.8.0\n"
          ]
        }
      ]
    },
    {
      "cell_type": "code",
      "source": [
        "!python train.py"
      ],
      "metadata": {
        "colab": {
          "base_uri": "https://localhost:8080/"
        },
        "id": "TA4WWFknhDKq",
        "outputId": "159d5950-7a5c-4792-8e97-a62bb124544a"
      },
      "execution_count": null,
      "outputs": [
        {
          "metadata": {
            "tags": null
          },
          "name": "stdout",
          "output_type": "stream",
          "text": [
            "loaded!\n",
            "loaded!\n",
            "converted to dataloaders!\n",
            "epoch:0\n",
            "d_A_loss:0.19574615347755048 d_B_loss:0.20390388612137283 cycle_loss:0.7515067541322042 g_A2B_loss:1.2699606025865835 g_B2A_loss:1.3008232273796732\n",
            "fake_A_acc:0.8760565519332886 fake_B_acc:0.5013678073883057 real_A_acc:0.5323484539985657 real_B_acc:0.8478325009346008\n",
            "epoch:1\n",
            "d_A_loss:0.18675335583298705 d_B_loss:0.2020236763150193 cycle_loss:0.6871409919834877 g_A2B_loss:1.2059138907018558 g_B2A_loss:1.2307823438977086\n",
            "fake_A_acc:0.531523585319519 fake_B_acc:0.6236363053321838 real_A_acc:0.7497390508651733 real_B_acc:0.6461699604988098\n",
            "epoch:2\n",
            "d_A_loss:0.18735272009936413 d_B_loss:0.19802692740462546 cycle_loss:0.69910775136578 g_A2B_loss:1.2237829524417256 g_B2A_loss:1.2469382286071777\n",
            "fake_A_acc:0.7052441835403442 fake_B_acc:0.819057285785675 real_A_acc:0.6933712363243103 real_B_acc:0.5927146673202515\n",
            "epoch:3\n",
            "d_A_loss:0.18502792652494224 d_B_loss:0.19857874668614808 cycle_loss:0.7039539421251578 g_A2B_loss:1.2342924785244374 g_B2A_loss:1.2472341762956722\n",
            "fake_A_acc:0.8535858392715454 fake_B_acc:0.4477820098400116 real_A_acc:0.5598695874214172 real_B_acc:0.8452273011207581\n",
            "epoch:4\n",
            "d_A_loss:0.1837369473290074 d_B_loss:0.20001127160796822 cycle_loss:0.6824641867663509 g_A2B_loss:1.2116200332493745 g_B2A_loss:1.2274914175965066\n",
            "fake_A_acc:0.779090940952301 fake_B_acc:0.5783458948135376 real_A_acc:0.6076430082321167 real_B_acc:0.7869275808334351\n",
            "epoch:5\n",
            "d_A_loss:0.18552978082682736 d_B_loss:0.19510006511858266 cycle_loss:0.6579392219698706 g_A2B_loss:1.1827848276426627 g_B2A_loss:1.199754960315172\n",
            "fake_A_acc:0.7964099049568176 fake_B_acc:0.621805727481842 real_A_acc:0.6533629298210144 real_B_acc:0.7098485827445984\n",
            "epoch:6\n",
            "d_A_loss:0.1798495939651201 d_B_loss:0.19442244030015413 cycle_loss:0.6398370959037958 g_A2B_loss:1.1678338720816974 g_B2A_loss:1.2002790708874547\n",
            "fake_A_acc:0.7168266177177429 fake_B_acc:0.8482281565666199 real_A_acc:0.7225715517997742 real_B_acc:0.4815068244934082\n",
            "epoch:7\n",
            "d_A_loss:0.18008977480868035 d_B_loss:0.19745979966350305 cycle_loss:0.6221145878928577 g_A2B_loss:1.145230121390764 g_B2A_loss:1.1726295250330785\n",
            "fake_A_acc:0.7246675491333008 fake_B_acc:0.8505512475967407 real_A_acc:0.6478325128555298 real_B_acc:0.4670160710811615\n",
            "epoch:8\n",
            "d_A_loss:0.1801449229666429 d_B_loss:0.20031662793584573 cycle_loss:0.6418226901874986 g_A2B_loss:1.1713615946991498 g_B2A_loss:1.1893812667491823\n",
            "fake_A_acc:0.6983460187911987 fake_B_acc:0.6513847708702087 real_A_acc:0.7050168514251709 real_B_acc:0.5924621224403381\n",
            "epoch:9\n",
            "d_A_loss:0.17793122892693955 d_B_loss:0.19413454201101332 cycle_loss:0.62398027680641 g_A2B_loss:1.1273584827896237 g_B2A_loss:1.1774724463159725\n",
            "fake_A_acc:0.7615026235580444 fake_B_acc:0.7022811770439148 real_A_acc:0.6131860017776489 real_B_acc:0.6706565022468567\n",
            "epoch:10\n",
            "d_A_loss:0.17469313088082528 d_B_loss:0.1935175482847894 cycle_loss:0.6313985549202261 g_A2B_loss:1.1706614323364672 g_B2A_loss:1.1987268795338712\n",
            "fake_A_acc:0.679057240486145 fake_B_acc:0.6372432112693787 real_A_acc:0.7284807562828064 real_B_acc:0.746582567691803\n",
            "epoch:11\n",
            "d_A_loss:0.1738434170567712 d_B_loss:0.19113299672224726 cycle_loss:0.621818508288657 g_A2B_loss:1.141947356305381 g_B2A_loss:1.1799986870713937\n",
            "fake_A_acc:0.6538426280021667 fake_B_acc:0.6308165192604065 real_A_acc:0.7550336122512817 real_B_acc:0.627622127532959\n",
            "epoch:12\n",
            "d_A_loss:0.17252210804889367 d_B_loss:0.18800186464028765 cycle_loss:0.6168231296446897 g_A2B_loss:1.1456353766049525 g_B2A_loss:1.1811865323273711\n",
            "fake_A_acc:0.8086069226264954 fake_B_acc:0.7826809287071228 real_A_acc:0.6192718744277954 real_B_acc:0.5347011685371399\n",
            "epoch:13\n",
            "d_A_loss:0.17688244806472644 d_B_loss:0.19082169338714244 cycle_loss:0.6034490198127983 g_A2B_loss:1.1326837267062462 g_B2A_loss:1.172894041667613\n",
            "fake_A_acc:0.6512920260429382 fake_B_acc:0.6999242305755615 real_A_acc:0.7488804459571838 real_B_acc:0.6585521697998047\n",
            "epoch:14\n",
            "d_A_loss:0.17128159995226896 d_B_loss:0.1889598318195158 cycle_loss:0.6191673902578132 g_A2B_loss:1.1496502327364544 g_B2A_loss:1.1833702191825985\n",
            "fake_A_acc:0.6097559332847595 fake_B_acc:0.6851767301559448 real_A_acc:0.7744444608688354 real_B_acc:0.670904815196991\n",
            "epoch:15\n",
            "d_A_loss:0.1712580550779668 d_B_loss:0.18955159245073333 cycle_loss:0.6305973726187566 g_A2B_loss:1.149747680786044 g_B2A_loss:1.2049585035605024\n",
            "fake_A_acc:0.7439941763877869 fake_B_acc:0.6340152025222778 real_A_acc:0.6596211791038513 real_B_acc:0.7844823598861694\n",
            "epoch:16\n",
            "d_A_loss:0.16690212863591292 d_B_loss:0.18607961143865143 cycle_loss:0.5960924921109695 g_A2B_loss:1.1095616683479428 g_B2A_loss:1.163797117480936\n",
            "fake_A_acc:0.6083880066871643 fake_B_acc:0.6519907116889954 real_A_acc:0.7724369168281555 real_B_acc:0.676776111125946\n",
            "epoch:17\n",
            "d_A_loss:0.16529266339863918 d_B_loss:0.18226439921661866 cycle_loss:0.6112484352071156 g_A2B_loss:1.1255159618318542 g_B2A_loss:1.176952747411506\n",
            "fake_A_acc:0.8181018829345703 fake_B_acc:0.710698664188385 real_A_acc:0.6443308591842651 real_B_acc:0.5943813920021057\n",
            "epoch:18\n",
            "d_A_loss:0.17106650671524595 d_B_loss:0.18788981795773024 cycle_loss:0.6065741761248241 g_A2B_loss:1.1350993481717369 g_B2A_loss:1.1780809732370598\n",
            "fake_A_acc:0.8701094388961792 fake_B_acc:0.4732828140258789 real_A_acc:0.5417466163635254 real_B_acc:0.870315670967102\n",
            "epoch:19\n",
            "d_A_loss:0.1688179511201474 d_B_loss:0.1892222924403442 cycle_loss:0.589449731878532 g_A2B_loss:1.1242468643558117 g_B2A_loss:1.1585146364315535\n",
            "fake_A_acc:0.6447854042053223 fake_B_acc:0.7424832582473755 real_A_acc:0.7558965682983398 real_B_acc:0.5930008292198181\n",
            "epoch:20\n",
            "d_A_loss:0.16541753980771515 d_B_loss:0.1830824357132579 cycle_loss:0.5823498564635137 g_A2B_loss:1.122522749642069 g_B2A_loss:1.1695370761923087\n",
            "fake_A_acc:0.770227313041687 fake_B_acc:0.7347139120101929 real_A_acc:0.6527946591377258 real_B_acc:0.6689268350601196\n",
            "epoch:21\n",
            "d_A_loss:0.1662304183655931 d_B_loss:0.18494250977686208 cycle_loss:0.5817998973436134 g_A2B_loss:1.1117648547009904 g_B2A_loss:1.1600792218548384\n",
            "fake_A_acc:0.6321717500686646 fake_B_acc:0.7616204619407654 real_A_acc:0.7455050945281982 real_B_acc:0.6065067052841187\n",
            "epoch:22\n",
            "d_A_loss:0.16764525260574134 d_B_loss:0.18314318393552026 cycle_loss:0.5823165067406588 g_A2B_loss:1.1265359714973804 g_B2A_loss:1.170501967271169\n",
            "fake_A_acc:0.5073695778846741 fake_B_acc:0.9694823026657104 real_A_acc:0.8406901955604553 real_B_acc:0.1837920993566513\n",
            "epoch:23\n",
            "d_A_loss:0.16235966477976288 d_B_loss:0.182595862147882 cycle_loss:0.581938104112019 g_A2B_loss:1.1230059959167658 g_B2A_loss:1.1640929907791375\n",
            "fake_A_acc:0.6853746771812439 fake_B_acc:0.38841331005096436 real_A_acc:0.674419105052948 real_B_acc:0.8073358535766602\n",
            "epoch:24\n",
            "d_A_loss:0.16686644393575284 d_B_loss:0.18220290957495225 cycle_loss:0.5773183248301809 g_A2B_loss:1.1152239196984344 g_B2A_loss:1.1679280298624852\n",
            "fake_A_acc:0.752941906452179 fake_B_acc:0.7020413279533386 real_A_acc:0.695888102054596 real_B_acc:0.6764814257621765\n",
            "epoch:25\n",
            "d_A_loss:0.1625577820132869 d_B_loss:0.17883052769326424 cycle_loss:0.5761747649011686 g_A2B_loss:1.1174356022546457 g_B2A_loss:1.173500927843789\n",
            "fake_A_acc:0.7854461073875427 fake_B_acc:0.5914688110351562 real_A_acc:0.6370749473571777 real_B_acc:0.7196633815765381\n",
            "epoch:26\n",
            "d_A_loss:0.16497537770936654 d_B_loss:0.18555919398633083 cycle_loss:0.5650927260402561 g_A2B_loss:1.107335780942163 g_B2A_loss:1.1463968726091607\n",
            "fake_A_acc:0.8118728399276733 fake_B_acc:0.7681819200515747 real_A_acc:0.6204545497894287 real_B_acc:0.5200294852256775\n",
            "epoch:27\n",
            "d_A_loss:0.16071903688269992 d_B_loss:0.1799238863610482 cycle_loss:0.5623038614443107 g_A2B_loss:1.108926258345907 g_B2A_loss:1.1580050550689993\n",
            "fake_A_acc:0.7306692004203796 fake_B_acc:0.7512543201446533 real_A_acc:0.6718559265136719 real_B_acc:0.5405218601226807\n",
            "epoch:28\n",
            "d_A_loss:0.15745242771714232 d_B_loss:0.18281698723634085 cycle_loss:0.5947586321091467 g_A2B_loss:1.1580147447512132 g_B2A_loss:1.1946297639100127\n",
            "fake_A_acc:0.6550967693328857 fake_B_acc:0.5711405873298645 real_A_acc:0.7150421142578125 real_B_acc:0.7693098187446594\n",
            "epoch:29\n",
            "d_A_loss:0.16100543027007302 d_B_loss:0.17836290008799974 cycle_loss:0.5666820728039557 g_A2B_loss:1.1184227397275526 g_B2A_loss:1.1613918713820996\n",
            "fake_A_acc:0.630416750907898 fake_B_acc:0.6238090395927429 real_A_acc:0.7135438919067383 real_B_acc:0.6149242520332336\n",
            "epoch:30\n",
            "d_A_loss:0.1611883410996245 d_B_loss:0.18001822185839794 cycle_loss:0.5542794073274894 g_A2B_loss:1.1010551004446754 g_B2A_loss:1.1547779699628666\n",
            "fake_A_acc:0.6330977082252502 fake_B_acc:0.7179461121559143 real_A_acc:0.7773947715759277 real_B_acc:0.6700630784034729\n",
            "epoch:31\n",
            "d_A_loss:0.15612653290578563 d_B_loss:0.17940072900103043 cycle_loss:0.5621401942515558 g_A2B_loss:1.1102415147677873 g_B2A_loss:1.171847825364549\n",
            "fake_A_acc:0.7860395908355713 fake_B_acc:0.5296549797058105 real_A_acc:0.5545202493667603 real_B_acc:0.7182996273040771\n",
            "epoch:32\n",
            "d_A_loss:0.1541791174762933 d_B_loss:0.18208841228669928 cycle_loss:0.5577676483364993 g_A2B_loss:1.1070115261299664 g_B2A_loss:1.1523180483847626\n",
            "fake_A_acc:0.7656902074813843 fake_B_acc:0.7153871655464172 real_A_acc:0.6572138667106628 real_B_acc:0.6296970248222351\n",
            "epoch:33\n",
            "d_A_loss:0.15097742989774823 d_B_loss:0.1726575590843378 cycle_loss:0.5579329890798229 g_A2B_loss:1.1186304827069127 g_B2A_loss:1.1569770671600519\n",
            "fake_A_acc:0.8743224740028381 fake_B_acc:0.4932912290096283 real_A_acc:0.5554251074790955 real_B_acc:0.7865697741508484\n",
            "epoch:34\n",
            "d_A_loss:0.15587086646362794 d_B_loss:0.1795350251387256 cycle_loss:0.5616040340689725 g_A2B_loss:1.1167613498924314 g_B2A_loss:1.1739627802094748\n",
            "fake_A_acc:0.7774032354354858 fake_B_acc:0.5846633315086365 real_A_acc:0.6427314877510071 real_B_acc:0.768750011920929\n",
            "epoch:35\n",
            "d_A_loss:0.1530279807688654 d_B_loss:0.17768159670423167 cycle_loss:0.5723095150418984 g_A2B_loss:1.1328304211298625 g_B2A_loss:1.1936628365701483\n",
            "fake_A_acc:0.5382323861122131 fake_B_acc:0.8565866947174072 real_A_acc:0.8050631880760193 real_B_acc:0.35548821091651917\n",
            "epoch:36\n",
            "d_A_loss:0.15443876050701438 d_B_loss:0.17809104798145073 cycle_loss:0.5647682954174603 g_A2B_loss:1.1247071508289308 g_B2A_loss:1.1963839461637098\n",
            "fake_A_acc:0.797331690788269 fake_B_acc:0.5551052093505859 real_A_acc:0.6404588222503662 real_B_acc:0.7594361305236816\n",
            "epoch:37\n",
            "d_A_loss:0.15195385672787362 d_B_loss:0.1790446252670399 cycle_loss:0.5410311404586763 g_A2B_loss:1.0997045636177063 g_B2A_loss:1.1661242796469105\n",
            "fake_A_acc:0.8806692361831665 fake_B_acc:0.7954249978065491 real_A_acc:0.5636363625526428 real_B_acc:0.4445706605911255\n",
            "epoch:38\n",
            "d_A_loss:0.14556344826669657 d_B_loss:0.17718366146549697 cycle_loss:0.5460523798946262 g_A2B_loss:1.105276386867198 g_B2A_loss:1.1745109553484954\n",
            "fake_A_acc:0.743615448474884 fake_B_acc:0.34288719296455383 real_A_acc:0.6927987933158875 real_B_acc:0.7816371917724609\n",
            "epoch:39\n",
            "d_A_loss:0.14416445139073586 d_B_loss:0.17627665111722873 cycle_loss:0.5496517639289531 g_A2B_loss:1.1109901994697808 g_B2A_loss:1.1641841918923135\n",
            "fake_A_acc:0.357167512178421 fake_B_acc:0.7302104830741882 real_A_acc:0.8434216976165771 real_B_acc:0.5420581102371216\n",
            "epoch:40\n",
            "d_A_loss:0.14710094797056775 d_B_loss:0.17961400244818176 cycle_loss:0.5563350183557171 g_A2B_loss:1.114553600318672 g_B2A_loss:1.1866667866706848\n",
            "fake_A_acc:0.8682323098182678 fake_B_acc:0.5005723834037781 real_A_acc:0.5737500190734863 real_B_acc:0.716881275177002\n",
            "epoch:41\n",
            "d_A_loss:0.14174491201722345 d_B_loss:0.17372200926837994 cycle_loss:0.5757506489753723 g_A2B_loss:1.1454244958337887 g_B2A_loss:1.1963855480962946\n",
            "fake_A_acc:0.7816289067268372 fake_B_acc:0.4568098187446594 real_A_acc:0.6847516894340515 real_B_acc:0.7465571761131287\n",
            "epoch:42\n",
            "d_A_loss:0.14763992499242456 d_B_loss:0.17089462424664534 cycle_loss:0.5648737739222919 g_A2B_loss:1.1388120207675667 g_B2A_loss:1.2058470683504445\n",
            "fake_A_acc:0.8743181228637695 fake_B_acc:0.5442676544189453 real_A_acc:0.5669570565223694 real_B_acc:0.6943686008453369\n",
            "epoch:43\n",
            "d_A_loss:0.14894167114366857 d_B_loss:0.17370930637500082 cycle_loss:0.5694160784861838 g_A2B_loss:1.129651966483094 g_B2A_loss:1.2051033003385676\n",
            "fake_A_acc:0.9064604640007019 fake_B_acc:0.5971464514732361 real_A_acc:0.5108081102371216 real_B_acc:0.6688299775123596\n",
            "epoch:44\n",
            "d_A_loss:0.1410987231042958 d_B_loss:0.17078985054363577 cycle_loss:0.5404010408146437 g_A2B_loss:1.0916251387707023 g_B2A_loss:1.1727079873861268\n",
            "fake_A_acc:0.6925925612449646 fake_B_acc:0.858573317527771 real_A_acc:0.6871507167816162 real_B_acc:0.4425757825374603\n",
            "epoch:45\n",
            "d_A_loss:0.14414929783390473 d_B_loss:0.17739634036786797 cycle_loss:0.5425865134989568 g_A2B_loss:1.094434070494748 g_B2A_loss:1.1755045726317768\n",
            "fake_A_acc:0.937992513179779 fake_B_acc:0.4257533848285675 real_A_acc:0.4977230429649353 real_B_acc:0.7652818560600281\n",
            "epoch:46\n",
            "d_A_loss:0.1374760566409244 d_B_loss:0.1772344864962637 cycle_loss:0.5533908185108688 g_A2B_loss:1.121203711790632 g_B2A_loss:1.1943062206571415\n",
            "fake_A_acc:0.8746255040168762 fake_B_acc:0.6259428262710571 real_A_acc:0.6509132385253906 real_B_acc:0.6725378632545471\n",
            "epoch:47\n",
            "d_A_loss:0.13948998294135398 d_B_loss:0.1685843996761381 cycle_loss:0.5496635212916736 g_A2B_loss:1.1124752002168996 g_B2A_loss:1.189108296420223\n",
            "fake_A_acc:0.8267594575881958 fake_B_acc:0.7577398419380188 real_A_acc:0.6194865107536316 real_B_acc:0.5184301137924194\n",
            "epoch:48\n",
            "d_A_loss:0.14011130222054416 d_B_loss:0.17269282222025154 cycle_loss:0.550824412541796 g_A2B_loss:1.13067365616791 g_B2A_loss:1.2040050685867782\n",
            "fake_A_acc:0.7787120938301086 fake_B_acc:0.4737163484096527 real_A_acc:0.6010227799415588 real_B_acc:0.6812162399291992\n",
            "epoch:49\n",
            "d_A_loss:0.13547659815512886 d_B_loss:0.17537953848986662 cycle_loss:0.5605642268824023 g_A2B_loss:1.1286399489225343 g_B2A_loss:1.2087103345597436\n",
            "fake_A_acc:0.5737289786338806 fake_B_acc:0.7062205672264099 real_A_acc:0.7494697570800781 real_B_acc:0.5390236377716064\n"
          ]
        }
      ]
    },
    {
      "cell_type": "code",
      "source": [
        "!git pull"
      ],
      "metadata": {
        "colab": {
          "base_uri": "https://localhost:8080/"
        },
        "id": "JZbm170FmOEm",
        "outputId": "f8c88872-d3dc-45d3-f2f9-bec92a525774"
      },
      "execution_count": null,
      "outputs": [
        {
          "output_type": "stream",
          "name": "stdout",
          "text": [
            "Updating 0bcabf4..222b84e\n",
            "Fast-forward\n",
            " bigmode4house.jpg.png | Bin \u001b[31m87744\u001b[m -> \u001b[32m85577\u001b[m bytes\n",
            " bigmodel22.pth        | Bin \u001b[31m0\u001b[m -> \u001b[32m84854955\u001b[m bytes\n",
            " generate.py           |   2 \u001b[32m+\u001b[m\u001b[31m-\u001b[m\n",
            " saving.png            | Bin \u001b[31m49688\u001b[m -> \u001b[32m55445\u001b[m bytes\n",
            " train.py              |   4 \u001b[32m++\u001b[m\u001b[31m--\u001b[m\n",
            " 5 files changed, 3 insertions(+), 3 deletions(-)\n",
            " create mode 100644 bigmodel22.pth\n"
          ]
        }
      ]
    }
  ]
}