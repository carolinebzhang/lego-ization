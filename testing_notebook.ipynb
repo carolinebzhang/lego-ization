{
 "cells": [
  {
   "cell_type": "code",
   "execution_count": null,
   "metadata": {},
   "outputs": [],
   "source": [
    "import skimage\n",
    "import numpy as np\n",
    "from skimage import img_as_ubyte\n",
    "import cv2"
   ]
  },
  {
   "cell_type": "code",
   "execution_count": null,
   "metadata": {},
   "outputs": [],
   "source": [
    "import cv2\n",
    "def cropping_helper(image_path, target_size):\n",
    "    # Load the image and convert it to grayscale\n",
    "    image = cv2.imread(image_path)\n",
    "    gray= cv2.cvtColor(image,cv2.COLOR_BGR2GRAY)\n",
    "    edges= cv2.Canny(gray, 10,255)\n",
    "    contours, hierarchy= cv2.findContours(edges.copy(), cv2.RETR_EXTERNAL, cv2.CHAIN_APPROX_NONE)\n",
    "    sorted_contour = sorted(contours, key=cv2.contourArea, reverse= True)[0]\n",
    "    \n",
    "    x,y,w,h= cv2.boundingRect(sorted_contour)\n",
    "    i=100\n",
    "    cropped_contour= image[y:y+h, x:x+w]\n",
    "    image_name= \"output_shape_number_\" + str(i) + \".jpg\"\n",
    "    cv2.imwrite(image_name, cropped_contour)\n",
    "    readimage= cv2.imread(image_name)\n",
    "    cv2.imshow('Image', readimage)\n",
    "    cv2.waitKey(0)\n",
    "        \n",
    "    cv2.destroyAllWindows()\n",
    "        \n",
    "\n",
    "cropping_helper(\"lego_objects/1735.jpg\", 256)"
   ]
  },
  {
   "cell_type": "code",
   "execution_count": null,
   "metadata": {},
   "outputs": [],
   "source": [
    "def preprocess_image(image_path, target_size):\n",
    "    image = skimage.io.imread(image_path)\n",
    "\n",
    "    if image.shape[0] != image.shape[1]:\n",
    "        diff = abs(image.shape[0] - image.shape[1])\n",
    "        padding = [(0, 0), (0, 0), (0, 0)]\n",
    "        if image.shape[0] > image.shape[1]:\n",
    "            padding[1] = (diff // 2, diff - (diff // 2))\n",
    "        else:\n",
    "            padding[0] = (diff // 2, diff - (diff // 2))\n",
    "        image = np.pad(image, padding, mode='constant', constant_values=255)\n",
    "\n",
    "    image = skimage.transform.resize(image, (target_size, target_size))\n",
    "    skimage.io.imshow(image)\n",
    "    #return image\n",
    "\n",
    "preprocess_image(\"lego_objects/5.jpg\", 400)"
   ]
  },
  {
   "cell_type": "code",
   "execution_count": null,
   "metadata": {},
   "outputs": [],
   "source": [
    "from PIL import Image as im\n",
    "import numpy as np\n",
    "def generate_image(input_img_path):\n",
    "\n",
    "    image = np.load(input_img_path)\n",
    "    \n",
    "\n",
    "    output_image = image * 255\n",
    "    output_image = output_image.astype(np.uint8)\n",
    "    \n",
    "    data = im.fromarray(output_image)\n",
    "    if data.mode != 'RGB':\n",
    "        data = data.convert('RGB')\n",
    "      \n",
    "    # saving the final output \n",
    "    # as a PNG file\n",
    "    data.save('testing.png')\n",
    "\n",
    "generate_image('/Users/carolinezhang/Downloads/lego-ization/lego_arrays/lego_113.npy')"
   ]
  },
  {
   "cell_type": "code",
   "execution_count": 9,
   "metadata": {},
   "outputs": [
    {
     "name": "stdout",
     "output_type": "stream",
     "text": [
      "(800, 598)\n",
      "<PIL.Image.Image image mode=L size=256x256 at 0x10F4D2620>\n",
      "[[ 13   8  14 ...  40  41  44]\n",
      " [ 13  15  24 ...  29  35  44]\n",
      " [ 13  25  40 ...  31  33  36]\n",
      " ...\n",
      " [180 172 170 ...   2   0   1]\n",
      " [195 193 196 ...   2   1   0]\n",
      " [207 208 210 ...   1   2   0]]\n",
      "(256, 256)\n"
     ]
    }
   ],
   "source": [
    "from PIL import Image\n",
    "import numpy as np\n",
    "\n",
    "def crop_center(image):\n",
    "    \"\"\"\n",
    "    Crop the image to 256x256 in the center.\n",
    "    \"\"\"\n",
    "    print(image.size)\n",
    "    width, height = image.size\n",
    "    left = (width - 256) / 2\n",
    "    top = (height - 256) / 2\n",
    "    right = (width + 256) / 2\n",
    "    bottom = (height + 256) / 2\n",
    "    image = image.crop((left, top, right, bottom))\n",
    "    print(image)\n",
    "    return image\n",
    "\n",
    "# Load the image\n",
    "image = Image.open(\"realworld_scenes/9110.jpg\")\n",
    "\n",
    "# Crop the image to 256x256 in the center\n",
    "image = crop_center(image)\n",
    "image = np.asarray(image)\n",
    "print(image)\n",
    "print(image.shape)\n",
    "\n",
    "# Save the cropped image\n",
    "#image.save(\"crop_test.jpg\")"
   ]
  },
  {
   "cell_type": "code",
   "execution_count": null,
   "metadata": {},
   "outputs": [],
   "source": []
  }
 ],
 "metadata": {
  "kernelspec": {
   "display_name": "csci1470",
   "language": "python",
   "name": "python3"
  },
  "language_info": {
   "codemirror_mode": {
    "name": "ipython",
    "version": 3
   },
   "file_extension": ".py",
   "mimetype": "text/x-python",
   "name": "python",
   "nbconvert_exporter": "python",
   "pygments_lexer": "ipython3",
   "version": "3.10.8"
  },
  "orig_nbformat": 4
 },
 "nbformat": 4,
 "nbformat_minor": 2
}
