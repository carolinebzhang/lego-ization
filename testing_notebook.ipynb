{
 "cells": [
  {
   "cell_type": "code",
   "execution_count": null,
   "metadata": {},
   "outputs": [],
   "source": [
    "import skimage\n",
    "import numpy as np\n",
    "from skimage import img_as_ubyte\n",
    "import cv2"
   ]
  },
  {
   "cell_type": "code",
   "execution_count": 1,
   "metadata": {},
   "outputs": [],
   "source": [
    "import cv2\n",
    "def cropping_helper(image_path, target_size):\n",
    "    # Load the image and convert it to grayscale\n",
    "    image = cv2.imread(image_path)\n",
    "    gray= cv2.cvtColor(image,cv2.COLOR_BGR2GRAY)\n",
    "    edges= cv2.Canny(gray, 10,255)\n",
    "    contours, hierarchy= cv2.findContours(edges.copy(), cv2.RETR_EXTERNAL, cv2.CHAIN_APPROX_NONE)\n",
    "    sorted_contour = sorted(contours, key=cv2.contourArea, reverse= True)[0]\n",
    "    \n",
    "    x,y,w,h= cv2.boundingRect(sorted_contour)\n",
    "    i=100\n",
    "    cropped_contour= image[y:y+h, x:x+w]\n",
    "    image_name= \"output_shape_number_\" + str(i) + \".jpg\"\n",
    "    cv2.imwrite(image_name, cropped_contour)\n",
    "    readimage= cv2.imread(image_name)\n",
    "    cv2.imshow('Image', readimage)\n",
    "    cv2.waitKey(0)\n",
    "        \n",
    "    cv2.destroyAllWindows()\n",
    "        \n",
    "\n",
    "cropping_helper(\"lego_objects/1735.jpg\", 256)"
   ]
  },
  {
   "cell_type": "code",
   "execution_count": null,
   "metadata": {},
   "outputs": [],
   "source": [
    "def preprocess_image(image_path, target_size):\n",
    "    image = skimage.io.imread(image_path)\n",
    "\n",
    "    if image.shape[0] != image.shape[1]:\n",
    "        diff = abs(image.shape[0] - image.shape[1])\n",
    "        padding = [(0, 0), (0, 0), (0, 0)]\n",
    "        if image.shape[0] > image.shape[1]:\n",
    "            padding[1] = (diff // 2, diff - (diff // 2))\n",
    "        else:\n",
    "            padding[0] = (diff // 2, diff - (diff // 2))\n",
    "        image = np.pad(image, padding, mode='constant', constant_values=255)\n",
    "\n",
    "    image = skimage.transform.resize(image, (target_size, target_size))\n",
    "    #skimage.io.imshow(image)\n",
    "    #return image\n",
    "\n",
    "preprocess_image(\"lego_objects/5.jpg\", 400)"
   ]
  }
 ],
 "metadata": {
  "kernelspec": {
   "display_name": "csci1470",
   "language": "python",
   "name": "python3"
  },
  "language_info": {
   "codemirror_mode": {
    "name": "ipython",
    "version": 3
   },
   "file_extension": ".py",
   "mimetype": "text/x-python",
   "name": "python",
   "nbconvert_exporter": "python",
   "pygments_lexer": "ipython3",
   "version": "3.10.8"
  },
  "orig_nbformat": 4
 },
 "nbformat": 4,
 "nbformat_minor": 2
}
