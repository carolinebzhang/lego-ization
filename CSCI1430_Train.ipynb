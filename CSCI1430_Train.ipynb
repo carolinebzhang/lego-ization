{
  "nbformat": 4,
  "nbformat_minor": 0,
  "metadata": {
    "colab": {
      "provenance": [],
      "gpuType": "T4"
    },
    "kernelspec": {
      "name": "python3",
      "display_name": "Python 3"
    },
    "language_info": {
      "name": "python"
    },
    "accelerator": "GPU",
    "gpuClass": "standard"
  },
  "cells": [
    {
      "cell_type": "code",
      "execution_count": null,
      "metadata": {
        "colab": {
          "base_uri": "https://localhost:8080/"
        },
        "id": "yLB2rAH06cS_",
        "outputId": "20b61b20-9c87-4545-97d4-ec9f18e8ba93"
      },
      "outputs": [
        {
          "output_type": "stream",
          "name": "stdout",
          "text": [
            "Cloning into 'lego-ization'...\n",
            "remote: Enumerating objects: 4196, done.\u001b[K\n",
            "remote: Counting objects: 100% (4/4), done.\u001b[K\n",
            "remote: Compressing objects: 100% (4/4), done.\u001b[K\n",
            "remote: Total 4196 (delta 0), reused 1 (delta 0), pack-reused 4192\u001b[K\n",
            "Receiving objects: 100% (4196/4196), 3.81 GiB | 34.33 MiB/s, done.\n",
            "Resolving deltas: 100% (1313/1313), done.\n",
            "Updating files: 100% (1193/1193), done.\n"
          ]
        }
      ],
      "source": [
        "!git clone https://github.com/carolinebzhang/lego-ization"
      ]
    },
    {
      "cell_type": "code",
      "source": [
        "%cd lego-ization/"
      ],
      "metadata": {
        "colab": {
          "base_uri": "https://localhost:8080/"
        },
        "id": "v2-oi2cs6jii",
        "outputId": "ce6ba9e2-6df1-454f-d6e8-d24f17c8bf29"
      },
      "execution_count": null,
      "outputs": [
        {
          "output_type": "stream",
          "name": "stdout",
          "text": [
            "/content/lego-ization\n"
          ]
        }
      ]
    },
    {
      "cell_type": "code",
      "source": [
        "!git checkout all_arrays"
      ],
      "metadata": {
        "colab": {
          "base_uri": "https://localhost:8080/"
        },
        "id": "Y7FXDVFC8l8q",
        "outputId": "94b65014-ffb6-48db-c135-cc84c905833c"
      },
      "execution_count": null,
      "outputs": [
        {
          "output_type": "stream",
          "name": "stdout",
          "text": [
            "Updating files: 100% (4188/4188), done.\n",
            "Branch 'all_arrays' set up to track remote branch 'all_arrays' from 'origin'.\n",
            "Switched to a new branch 'all_arrays'\n"
          ]
        }
      ]
    },
    {
      "cell_type": "code",
      "source": [
        "!git pull"
      ],
      "metadata": {
        "colab": {
          "base_uri": "https://localhost:8080/"
        },
        "id": "TeeUunQLKhyf",
        "outputId": "d173609b-5fa2-47ae-c047-a5cdfbe5ab78"
      },
      "execution_count": null,
      "outputs": [
        {
          "output_type": "stream",
          "name": "stdout",
          "text": [
            "remote: Enumerating objects: 7, done.\u001b[K\n",
            "remote: Counting objects:  14% (1/7)\u001b[K\rremote: Counting objects:  28% (2/7)\u001b[K\rremote: Counting objects:  42% (3/7)\u001b[K\rremote: Counting objects:  57% (4/7)\u001b[K\rremote: Counting objects:  71% (5/7)\u001b[K\rremote: Counting objects:  85% (6/7)\u001b[K\rremote: Counting objects: 100% (7/7)\u001b[K\rremote: Counting objects: 100% (7/7), done.\u001b[K\n",
            "remote: Compressing objects: 100% (1/1)\u001b[K\rremote: Compressing objects: 100% (1/1), done.\u001b[K\n",
            "remote: Total 4 (delta 3), reused 4 (delta 3), pack-reused 0\u001b[K\n",
            "Unpacking objects:  25% (1/4)\rUnpacking objects:  50% (2/4)\rUnpacking objects:  75% (3/4)\rUnpacking objects: 100% (4/4)\rUnpacking objects: 100% (4/4), 710 bytes | 355.00 KiB/s, done.\n",
            "From https://github.com/carolinebzhang/lego-ization\n",
            "   c78ec62..2b1a091  all_arrays -> origin/all_arrays\n",
            "Updating c78ec62..2b1a091\n",
            "Fast-forward\n",
            " testing_notebook.ipynb | 65 \u001b[32m+++++++++++\u001b[m\u001b[31m---------------------------------------\u001b[m\n",
            " utils.py               | 15 \u001b[32m++++++++\u001b[m\u001b[31m----\u001b[m\n",
            " 2 files changed, 24 insertions(+), 56 deletions(-)\n"
          ]
        }
      ]
    },
    {
      "cell_type": "code",
      "source": [
        "pip install torcheval"
      ],
      "metadata": {
        "colab": {
          "base_uri": "https://localhost:8080/"
        },
        "id": "MXaVGz-fxfqv",
        "outputId": "5b885d2b-014b-457d-e122-b43f3d17c3f4"
      },
      "execution_count": null,
      "outputs": [
        {
          "output_type": "stream",
          "name": "stdout",
          "text": [
            "Looking in indexes: https://pypi.org/simple, https://us-python.pkg.dev/colab-wheels/public/simple/\n",
            "Collecting torcheval\n",
            "  Downloading torcheval-0.0.6-py3-none-any.whl (158 kB)\n",
            "\u001b[2K     \u001b[90m━━━━━━━━━━━━━━━━━━━━━━━━━━━━━━━━━━━━━━━\u001b[0m \u001b[32m158.4/158.4 kB\u001b[0m \u001b[31m8.3 MB/s\u001b[0m eta \u001b[36m0:00:00\u001b[0m\n",
            "\u001b[?25hRequirement already satisfied: typing-extensions in /usr/local/lib/python3.10/dist-packages (from torcheval) (4.5.0)\n",
            "Collecting torchtnt>=0.0.5\n",
            "  Downloading torchtnt-0.1.0-py3-none-any.whl (87 kB)\n",
            "\u001b[2K     \u001b[90m━━━━━━━━━━━━━━━━━━━━━━━━━━━━━━━━━━━━━━━━\u001b[0m \u001b[32m87.9/87.9 kB\u001b[0m \u001b[31m12.4 MB/s\u001b[0m eta \u001b[36m0:00:00\u001b[0m\n",
            "\u001b[?25hRequirement already satisfied: tqdm in /usr/local/lib/python3.10/dist-packages (from torchtnt>=0.0.5->torcheval) (4.65.0)\n",
            "Requirement already satisfied: packaging in /usr/local/lib/python3.10/dist-packages (from torchtnt>=0.0.5->torcheval) (23.1)\n",
            "Requirement already satisfied: numpy in /usr/local/lib/python3.10/dist-packages (from torchtnt>=0.0.5->torcheval) (1.22.4)\n",
            "Collecting pyre-extensions\n",
            "  Downloading pyre_extensions-0.0.30-py3-none-any.whl (12 kB)\n",
            "Requirement already satisfied: tensorboard in /usr/local/lib/python3.10/dist-packages (from torchtnt>=0.0.5->torcheval) (2.12.2)\n",
            "Requirement already satisfied: fsspec in /usr/local/lib/python3.10/dist-packages (from torchtnt>=0.0.5->torcheval) (2023.4.0)\n",
            "Requirement already satisfied: setuptools in /usr/local/lib/python3.10/dist-packages (from torchtnt>=0.0.5->torcheval) (67.7.2)\n",
            "Requirement already satisfied: torch in /usr/local/lib/python3.10/dist-packages (from torchtnt>=0.0.5->torcheval) (2.0.0+cu118)\n",
            "Requirement already satisfied: psutil in /usr/local/lib/python3.10/dist-packages (from torchtnt>=0.0.5->torcheval) (5.9.5)\n",
            "Collecting typing-inspect\n",
            "  Downloading typing_inspect-0.8.0-py3-none-any.whl (8.7 kB)\n",
            "Requirement already satisfied: google-auth<3,>=1.6.3 in /usr/local/lib/python3.10/dist-packages (from tensorboard->torchtnt>=0.0.5->torcheval) (2.17.3)\n",
            "Requirement already satisfied: requests<3,>=2.21.0 in /usr/local/lib/python3.10/dist-packages (from tensorboard->torchtnt>=0.0.5->torcheval) (2.27.1)\n",
            "Requirement already satisfied: tensorboard-plugin-wit>=1.6.0 in /usr/local/lib/python3.10/dist-packages (from tensorboard->torchtnt>=0.0.5->torcheval) (1.8.1)\n",
            "Requirement already satisfied: wheel>=0.26 in /usr/local/lib/python3.10/dist-packages (from tensorboard->torchtnt>=0.0.5->torcheval) (0.40.0)\n",
            "Requirement already satisfied: tensorboard-data-server<0.8.0,>=0.7.0 in /usr/local/lib/python3.10/dist-packages (from tensorboard->torchtnt>=0.0.5->torcheval) (0.7.0)\n",
            "Requirement already satisfied: absl-py>=0.4 in /usr/local/lib/python3.10/dist-packages (from tensorboard->torchtnt>=0.0.5->torcheval) (1.4.0)\n",
            "Requirement already satisfied: google-auth-oauthlib<1.1,>=0.5 in /usr/local/lib/python3.10/dist-packages (from tensorboard->torchtnt>=0.0.5->torcheval) (1.0.0)\n",
            "Requirement already satisfied: markdown>=2.6.8 in /usr/local/lib/python3.10/dist-packages (from tensorboard->torchtnt>=0.0.5->torcheval) (3.4.3)\n",
            "Requirement already satisfied: grpcio>=1.48.2 in /usr/local/lib/python3.10/dist-packages (from tensorboard->torchtnt>=0.0.5->torcheval) (1.54.0)\n",
            "Requirement already satisfied: werkzeug>=1.0.1 in /usr/local/lib/python3.10/dist-packages (from tensorboard->torchtnt>=0.0.5->torcheval) (2.3.0)\n",
            "Requirement already satisfied: protobuf>=3.19.6 in /usr/local/lib/python3.10/dist-packages (from tensorboard->torchtnt>=0.0.5->torcheval) (3.20.3)\n",
            "Requirement already satisfied: sympy in /usr/local/lib/python3.10/dist-packages (from torch->torchtnt>=0.0.5->torcheval) (1.11.1)\n",
            "Requirement already satisfied: networkx in /usr/local/lib/python3.10/dist-packages (from torch->torchtnt>=0.0.5->torcheval) (3.1)\n",
            "Requirement already satisfied: filelock in /usr/local/lib/python3.10/dist-packages (from torch->torchtnt>=0.0.5->torcheval) (3.12.0)\n",
            "Requirement already satisfied: triton==2.0.0 in /usr/local/lib/python3.10/dist-packages (from torch->torchtnt>=0.0.5->torcheval) (2.0.0)\n",
            "Requirement already satisfied: jinja2 in /usr/local/lib/python3.10/dist-packages (from torch->torchtnt>=0.0.5->torcheval) (3.1.2)\n",
            "Requirement already satisfied: lit in /usr/local/lib/python3.10/dist-packages (from triton==2.0.0->torch->torchtnt>=0.0.5->torcheval) (16.0.2)\n",
            "Requirement already satisfied: cmake in /usr/local/lib/python3.10/dist-packages (from triton==2.0.0->torch->torchtnt>=0.0.5->torcheval) (3.25.2)\n",
            "Requirement already satisfied: rsa<5,>=3.1.4 in /usr/local/lib/python3.10/dist-packages (from google-auth<3,>=1.6.3->tensorboard->torchtnt>=0.0.5->torcheval) (4.9)\n",
            "Requirement already satisfied: six>=1.9.0 in /usr/local/lib/python3.10/dist-packages (from google-auth<3,>=1.6.3->tensorboard->torchtnt>=0.0.5->torcheval) (1.16.0)\n",
            "Requirement already satisfied: cachetools<6.0,>=2.0.0 in /usr/local/lib/python3.10/dist-packages (from google-auth<3,>=1.6.3->tensorboard->torchtnt>=0.0.5->torcheval) (5.3.0)\n",
            "Requirement already satisfied: pyasn1-modules>=0.2.1 in /usr/local/lib/python3.10/dist-packages (from google-auth<3,>=1.6.3->tensorboard->torchtnt>=0.0.5->torcheval) (0.3.0)\n",
            "Requirement already satisfied: requests-oauthlib>=0.7.0 in /usr/local/lib/python3.10/dist-packages (from google-auth-oauthlib<1.1,>=0.5->tensorboard->torchtnt>=0.0.5->torcheval) (1.3.1)\n",
            "Requirement already satisfied: urllib3<1.27,>=1.21.1 in /usr/local/lib/python3.10/dist-packages (from requests<3,>=2.21.0->tensorboard->torchtnt>=0.0.5->torcheval) (1.26.15)\n",
            "Requirement already satisfied: certifi>=2017.4.17 in /usr/local/lib/python3.10/dist-packages (from requests<3,>=2.21.0->tensorboard->torchtnt>=0.0.5->torcheval) (2022.12.7)\n",
            "Requirement already satisfied: idna<4,>=2.5 in /usr/local/lib/python3.10/dist-packages (from requests<3,>=2.21.0->tensorboard->torchtnt>=0.0.5->torcheval) (3.4)\n",
            "Requirement already satisfied: charset-normalizer~=2.0.0 in /usr/local/lib/python3.10/dist-packages (from requests<3,>=2.21.0->tensorboard->torchtnt>=0.0.5->torcheval) (2.0.12)\n",
            "Requirement already satisfied: MarkupSafe>=2.1.1 in /usr/local/lib/python3.10/dist-packages (from werkzeug>=1.0.1->tensorboard->torchtnt>=0.0.5->torcheval) (2.1.2)\n",
            "Requirement already satisfied: mpmath>=0.19 in /usr/local/lib/python3.10/dist-packages (from sympy->torch->torchtnt>=0.0.5->torcheval) (1.3.0)\n",
            "Collecting mypy-extensions>=0.3.0\n",
            "  Downloading mypy_extensions-1.0.0-py3-none-any.whl (4.7 kB)\n",
            "Requirement already satisfied: pyasn1<0.6.0,>=0.4.6 in /usr/local/lib/python3.10/dist-packages (from pyasn1-modules>=0.2.1->google-auth<3,>=1.6.3->tensorboard->torchtnt>=0.0.5->torcheval) (0.5.0)\n",
            "Requirement already satisfied: oauthlib>=3.0.0 in /usr/local/lib/python3.10/dist-packages (from requests-oauthlib>=0.7.0->google-auth-oauthlib<1.1,>=0.5->tensorboard->torchtnt>=0.0.5->torcheval) (3.2.2)\n",
            "Installing collected packages: mypy-extensions, typing-inspect, pyre-extensions, torchtnt, torcheval\n",
            "Successfully installed mypy-extensions-1.0.0 pyre-extensions-0.0.30 torcheval-0.0.6 torchtnt-0.1.0 typing-inspect-0.8.0\n"
          ]
        }
      ]
    },
    {
      "cell_type": "code",
      "source": [
        "!python train.py"
      ],
      "metadata": {
        "colab": {
          "base_uri": "https://localhost:8080/"
        },
        "id": "63t3tP5X7cIM",
        "outputId": "75524ead-4074-4fd8-8ecc-e42fdbb9816e"
      },
      "execution_count": null,
      "outputs": [
        {
          "output_type": "stream",
          "name": "stdout",
          "text": [
            "loaded!\n",
            "loaded!\n",
            "converted to dataloaders!\n",
            "epoch:0\n",
            "d_A_loss:0.19985406800377659 d_B_loss:0.13858429802490807 cycle_loss:1116.6565618747618 g_A2B_loss:1119.0108739341179 g_B2A_loss:1452.0362563714748\n",
            "fake_A_acc:0.6074510216712952 fake_B_acc:0.9747957587242126 real_A_acc:0.8961328864097595 real_B_acc:0.9913234710693359\n",
            "epoch:1\n",
            "d_A_loss:0.11273049912983324 d_B_loss:0.050242747066587934 cycle_loss:1115.783665354659 g_A2B_loss:1117.2153729694646 g_B2A_loss:1451.2208326386242\n",
            "fake_A_acc:0.9754710793495178 fake_B_acc:0.9867047667503357 real_A_acc:0.9331835508346558 real_B_acc:0.9898585081100464\n",
            "epoch:2\n",
            "d_A_loss:0.05905268368561093 d_B_loss:0.01662438874496374 cycle_loss:1115.831769989758 g_A2B_loss:1117.5769958496094 g_B2A_loss:1451.3344145984183\n",
            "fake_A_acc:0.9940849542617798 fake_B_acc:0.999869167804718 real_A_acc:0.9882380366325378 real_B_acc:0.9999591708183289\n",
            "epoch:3\n",
            "d_A_loss:0.034502876218317484 d_B_loss:0.008678217094800458 cycle_loss:1115.5429627953506 g_A2B_loss:1117.1319237685784 g_B2A_loss:1451.049320872237\n",
            "fake_A_acc:0.9998528957366943 fake_B_acc:1.0 real_A_acc:0.9669634699821472 real_B_acc:1.0\n",
            "epoch:4\n",
            "d_A_loss:0.03675431917171653 d_B_loss:0.005506217374648081 cycle_loss:1115.4982061618712 g_A2B_loss:1117.0930503286966 g_B2A_loss:1451.116035275343\n",
            "fake_A_acc:0.9999591708183289 fake_B_acc:1.0 real_A_acc:0.9975653290748596 real_B_acc:1.0\n",
            "epoch:5\n",
            "d_A_loss:0.023164557804149097 d_B_loss:0.0037672036049160654 cycle_loss:1115.3988133872429 g_A2B_loss:1116.9695427127 g_B2A_loss:1450.8540247475228\n",
            "fake_A_acc:0.9998447299003601 fake_B_acc:1.0 real_A_acc:0.968706488609314 real_B_acc:1.0\n",
            "epoch:6\n",
            "d_A_loss:0.02776758965649983 d_B_loss:0.0026394393005431064 cycle_loss:1115.3413636742569 g_A2B_loss:1116.9177908548495 g_B2A_loss:1450.8823480373476\n",
            "fake_A_acc:1.0 fake_B_acc:1.0 real_A_acc:0.9996023774147034 real_B_acc:1.0\n",
            "epoch:7\n",
            "d_A_loss:0.016205653792428897 d_B_loss:0.0024255025058575884 cycle_loss:1115.3050269150153 g_A2B_loss:1116.864201987662 g_B2A_loss:1450.7304285561165\n",
            "fake_A_acc:0.9999918341636658 fake_B_acc:1.0 real_A_acc:0.9799917936325073 real_B_acc:1.0\n",
            "epoch:8\n",
            "d_A_loss:0.024787747142154995 d_B_loss:0.002173977338981519 cycle_loss:1115.2410419743235 g_A2B_loss:1116.7930342511434 g_B2A_loss:1450.9076374333079\n",
            "fake_A_acc:0.9913480281829834 fake_B_acc:1.0 real_A_acc:0.9588943719863892 real_B_acc:1.0\n",
            "epoch:9\n",
            "d_A_loss:0.029311089969535426 d_B_loss:0.0017518444801680744 cycle_loss:1115.2234541730184 g_A2B_loss:1116.7713399747522 g_B2A_loss:1450.8463566477706\n",
            "fake_A_acc:0.9999918341636658 fake_B_acc:1.0 real_A_acc:0.9538888335227966 real_B_acc:1.0\n",
            "epoch:10\n",
            "d_A_loss:0.024237635193347203 d_B_loss:0.0014012405796476255 cycle_loss:1115.1722977801066 g_A2B_loss:1116.6991428282204 g_B2A_loss:1450.7368603217892\n",
            "fake_A_acc:0.9650625586509705 fake_B_acc:1.0 real_A_acc:0.9630582332611084 real_B_acc:1.0\n",
            "epoch:11\n",
            "d_A_loss:0.021740642200201388 d_B_loss:0.0012655261536299184 cycle_loss:1115.1859376488662 g_A2B_loss:1116.7224046660633 g_B2A_loss:1450.7124976181403\n",
            "fake_A_acc:0.937810480594635 fake_B_acc:1.0 real_A_acc:0.9905038475990295 real_B_acc:1.0\n",
            "epoch:12\n",
            "d_A_loss:0.012606175349480131 d_B_loss:0.00101850413299938 cycle_loss:1115.1191808188835 g_A2B_loss:1116.6424448897199 g_B2A_loss:1450.4790991806403\n",
            "fake_A_acc:1.0 fake_B_acc:1.0 real_A_acc:1.0 real_B_acc:1.0\n",
            "epoch:13\n",
            "d_A_loss:0.0037433703447033355 d_B_loss:0.00102341322089182 cycle_loss:1115.0888083853372 g_A2B_loss:1116.6053675209603 g_B2A_loss:1450.373252310404\n",
            "fake_A_acc:0.9938316345214844 fake_B_acc:1.0 real_A_acc:1.0 real_B_acc:1.0\n",
            "epoch:14\n",
            "d_A_loss:0.0035010067442227608 d_B_loss:0.0009073088429697858 cycle_loss:1115.0354212318978 g_A2B_loss:1116.5387148973418 g_B2A_loss:1450.362313619474\n",
            "fake_A_acc:0.9999591708183289 fake_B_acc:1.0 real_A_acc:1.0 real_B_acc:1.0\n",
            "epoch:15\n",
            "d_A_loss:0.003659188087245949 d_B_loss:0.0008333593623985242 cycle_loss:1115.021903433451 g_A2B_loss:1116.5115795600705 g_B2A_loss:1450.307003858613\n",
            "fake_A_acc:1.0 fake_B_acc:1.0 real_A_acc:1.0 real_B_acc:1.0\n",
            "epoch:16\n",
            "d_A_loss:0.004490262282893016 d_B_loss:0.0007215529742718833 cycle_loss:1114.9994960877953 g_A2B_loss:1116.4983684260671 g_B2A_loss:1450.2378510265817\n",
            "fake_A_acc:1.0 fake_B_acc:1.0 real_A_acc:0.9973312020301819 real_B_acc:1.0\n",
            "epoch:17\n",
            "d_A_loss:0.002058615614858842 d_B_loss:0.000976621762497305 cycle_loss:1114.9810448623284 g_A2B_loss:1116.4614138719512 g_B2A_loss:1450.210834782298\n",
            "fake_A_acc:1.0 fake_B_acc:1.0 real_A_acc:1.0 real_B_acc:1.0\n",
            "epoch:18\n",
            "d_A_loss:0.008401277574437966 d_B_loss:0.0005959296569216815 cycle_loss:1114.9867836556784 g_A2B_loss:1116.4560442668635 g_B2A_loss:1450.3079878644246\n",
            "fake_A_acc:1.0 fake_B_acc:1.0 real_A_acc:0.9107052087783813 real_B_acc:1.0\n",
            "epoch:19\n",
            "d_A_loss:0.012194523701398837 d_B_loss:0.0005548514280945244 cycle_loss:1114.9614012183213 g_A2B_loss:1116.4077803448934 g_B2A_loss:1450.2520230921302\n",
            "fake_A_acc:1.0 fake_B_acc:1.0 real_A_acc:1.0 real_B_acc:1.0\n",
            "epoch:20\n",
            "d_A_loss:0.02431818051334675 d_B_loss:0.0004477581160466709 cycle_loss:1114.9957521019912 g_A2B_loss:1116.4439436749715 g_B2A_loss:1450.5527090677401\n",
            "fake_A_acc:1.0 fake_B_acc:1.0 real_A_acc:0.9750544428825378 real_B_acc:1.0\n",
            "epoch:21\n",
            "d_A_loss:0.02123562741752078 d_B_loss:0.00041533694439283686 cycle_loss:1115.0093138159775 g_A2B_loss:1116.457318561833 g_B2A_loss:1450.4782298018292\n",
            "fake_A_acc:0.9998855590820312 fake_B_acc:1.0 real_A_acc:0.961508572101593 real_B_acc:1.0\n",
            "epoch:22\n",
            "d_A_loss:0.016639231295302148 d_B_loss:0.0004190611731113366 cycle_loss:1114.9650305771247 g_A2B_loss:1116.4093613043065 g_B2A_loss:1450.4331903225038\n",
            "fake_A_acc:1.0 fake_B_acc:1.0 real_A_acc:0.9881699681282043 real_B_acc:1.0\n",
            "epoch:23\n",
            "d_A_loss:0.011207149375411795 d_B_loss:0.0003942719447034661 cycle_loss:1114.94254135504 g_A2B_loss:1116.3901143888147 g_B2A_loss:1450.4052719488377\n",
            "fake_A_acc:1.0 fake_B_acc:1.0 real_A_acc:0.9851117134094238 real_B_acc:1.0\n",
            "epoch:24\n",
            "d_A_loss:0.024346169791320656 d_B_loss:0.00035914145807576617 cycle_loss:1114.9486902748665 g_A2B_loss:1116.394852056736 g_B2A_loss:1450.55826401129\n",
            "fake_A_acc:1.0 fake_B_acc:1.0 real_A_acc:0.9697303771972656 real_B_acc:1.0\n",
            "epoch:25\n",
            "d_A_loss:0.007347520362733432 d_B_loss:0.0003787641876331735 cycle_loss:1114.946134241616 g_A2B_loss:1116.3912018566598 g_B2A_loss:1450.2427904082508\n",
            "fake_A_acc:1.0 fake_B_acc:1.0 real_A_acc:1.0 real_B_acc:1.0\n",
            "epoch:26\n",
            "d_A_loss:0.012596877002179986 d_B_loss:0.0003484553762529863 cycle_loss:1114.895593410585 g_A2B_loss:1116.3424771936927 g_B2A_loss:1450.2047625285823\n",
            "fake_A_acc:1.0 fake_B_acc:1.0 real_A_acc:0.9899564385414124 real_B_acc:1.0\n",
            "epoch:27\n",
            "d_A_loss:0.004237019694012749 d_B_loss:0.00032265148556467557 cycle_loss:1114.8828794898056 g_A2B_loss:1116.3178926793541 g_B2A_loss:1450.1160873785252\n",
            "fake_A_acc:0.9160375595092773 fake_B_acc:1.0 real_A_acc:1.0 real_B_acc:1.0\n",
            "epoch:28\n",
            "d_A_loss:0.006789621689765737 d_B_loss:0.0002899106805604633 cycle_loss:1114.8608167694836 g_A2B_loss:1116.2824074349753 g_B2A_loss:1450.0946610613566\n",
            "fake_A_acc:1.0 fake_B_acc:1.0 real_A_acc:1.0 real_B_acc:1.0\n",
            "epoch:29\n",
            "d_A_loss:0.004565830596597729 d_B_loss:0.00030399414780975616 cycle_loss:1114.8462010825554 g_A2B_loss:1116.2698862959699 g_B2A_loss:1450.179927174638\n",
            "fake_A_acc:1.0 fake_B_acc:1.0 real_A_acc:0.9951552152633667 real_B_acc:1.0\n",
            "epoch:30\n",
            "d_A_loss:0.008532053769691052 d_B_loss:0.0003814867743086524 cycle_loss:1114.9523717368522 g_A2B_loss:1116.407889761576 g_B2A_loss:1450.3726166515817\n",
            "fake_A_acc:1.0 fake_B_acc:1.0 real_A_acc:0.9967320561408997 real_B_acc:1.0\n",
            "epoch:31\n",
            "d_A_loss:0.0037344168302341843 d_B_loss:0.00026652737692418714 cycle_loss:1114.8659347906346 g_A2B_loss:1116.246341612281 g_B2A_loss:1450.122143256955\n",
            "fake_A_acc:1.0 fake_B_acc:1.0 real_A_acc:1.0 real_B_acc:1.0\n",
            "epoch:32\n",
            "d_A_loss:0.009129147249750974 d_B_loss:0.0002481631014322885 cycle_loss:1114.8363989853278 g_A2B_loss:1116.2004759253525 g_B2A_loss:1450.3009048089748\n",
            "fake_A_acc:1.0 fake_B_acc:1.0 real_A_acc:1.0 real_B_acc:1.0\n",
            "epoch:33\n"
          ]
        }
      ]
    }
  ]
}